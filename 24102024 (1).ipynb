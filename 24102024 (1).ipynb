{
 "cells": [
  {
   "cell_type": "code",
   "execution_count": 1,
   "id": "8b2bc4ce-7410-47ef-9b2e-a1afbbd0650e",
   "metadata": {},
   "outputs": [],
   "source": [
    "import numpy as np"
   ]
  },
  {
   "cell_type": "code",
   "execution_count": 2,
   "id": "9c0c26c3-aab0-4bfc-8062-9eb9788a9dd4",
   "metadata": {},
   "outputs": [
    {
     "name": "stdout",
     "output_type": "stream",
     "text": [
      "[42  2  3  4  5]\n",
      "[42  2  3  4  5]\n"
     ]
    }
   ],
   "source": [
    "arr=np.array([1,2,3,4,5])\n",
    "x=arr.view()\n",
    "arr[0]=42\n",
    "print(arr)\n",
    "print(x)"
   ]
  },
  {
   "cell_type": "code",
   "execution_count": 4,
   "id": "e97c65b5-253a-47e8-88e2-7bec9f8ff34d",
   "metadata": {},
   "outputs": [
    {
     "name": "stdout",
     "output_type": "stream",
     "text": [
      "original Array: [1 8 3 3 5]\n",
      "Array after appending: [1 8 3 3 5 7]\n"
     ]
    }
   ],
   "source": [
    "arr=np.array([1,8,3,3,5])\n",
    "print('original Array:', arr)\n",
    "arr=np.append(arr,[7])\n",
    "print('Array after appending:',arr)"
   ]
  },
  {
   "cell_type": "code",
   "execution_count": 8,
   "id": "f6be0039-51bc-4388-aa34-bd0d87830739",
   "metadata": {},
   "outputs": [
    {
     "name": "stdout",
     "output_type": "stream",
     "text": [
      "Array After appending: [1 8 3 3 5 1 2 3 4 5]\n",
      "[ 2 10  6  7 10]\n"
     ]
    }
   ],
   "source": [
    "arr1=np.array([1,8,3,3,5])\n",
    "arr2=np.array([1,2,3,4,5])\n",
    "arr3=np.append(arr1,arr2)\n",
    "print('Array After appending:', arr3)\n",
    "print(arr1+arr2)"
   ]
  },
  {
   "cell_type": "code",
   "execution_count": 11,
   "id": "1c56dc9a-de84-4a02-ba84-29b3676ed98e",
   "metadata": {},
   "outputs": [
    {
     "name": "stdout",
     "output_type": "stream",
     "text": [
      "1\n",
      "2\n",
      "3\n",
      "4\n",
      "5\n"
     ]
    }
   ],
   "source": [
    "arr=np.array([1,2,3,4,5])\n",
    "for x in arr:\n",
    "    print(x)   # ek hi line ke l"
   ]
  },
  {
   "cell_type": "code",
   "execution_count": 35,
   "id": "729bb5a8-3801-4308-9d5e-c736034d0b55",
   "metadata": {},
   "outputs": [
    {
     "name": "stdout",
     "output_type": "stream",
     "text": [
      "1\n",
      "3\n",
      "5\n",
      "2\n",
      "5\n",
      "7\n"
     ]
    }
   ],
   "source": [
    "arr=np.array([[1,2,3,4,5],[2,4,5,6,7]])\n",
    "for x in np.nditer(arr[:,::2]):\n",
    "    print(x) "
   ]
  },
  {
   "cell_type": "code",
   "execution_count": 28,
   "id": "2149beb1-a74c-4768-a949-874f5b30c317",
   "metadata": {},
   "outputs": [
    {
     "name": "stdout",
     "output_type": "stream",
     "text": [
      "x represent the 2-D array:\n",
      "[1 2 3 4 5]\n",
      "[2 4 5 6 7]\n",
      "[4 6 8 3 6]\n"
     ]
    }
   ],
   "source": [
    "arr=np.array([[[1,2,3,4,5],[2,4,5,6,7],[4,6,8,3,6]]])\n",
    "for x in arr:\n",
    "    print(\"x represent the 2-D array:\")\n",
    "for y in x:\n",
    "     print(y)   "
   ]
  },
  {
   "cell_type": "code",
   "execution_count": 30,
   "id": "3c5e0726-10e6-4fbe-a8f0-efd09331fcb5",
   "metadata": {},
   "outputs": [
    {
     "name": "stdout",
     "output_type": "stream",
     "text": [
      "x represent the 2-D array:\n",
      "[1 2 3 4 5]\n",
      "[2 4 5 6 7]\n",
      "[4 6 8 3 6]\n",
      "[3 5 6 7 8]\n"
     ]
    }
   ],
   "source": [
    "arr=np.array([[[[1,2,3,4,5],[2,4,5,6,7],[4,6,8,3,6],[3,5,6,7,8]]]])\n",
    "for x in arr:\n",
    "    \n",
    "    print(\"x represent the 2-D array:\")\n",
    "for y in x:\n",
    "    for z in y:\n",
    "     print(z)"
   ]
  },
  {
   "cell_type": "code",
   "execution_count": 32,
   "id": "d101f8f9-3fa3-43be-85c4-4ba12fd670b3",
   "metadata": {},
   "outputs": [
    {
     "name": "stdout",
     "output_type": "stream",
     "text": [
      "1\n",
      "2\n",
      "3\n",
      "4\n",
      "5\n",
      "6\n",
      "7\n",
      "8\n"
     ]
    }
   ],
   "source": [
    "arr=np.array([[[1,2],[3,4],[5,6],[7,8]]])\n",
    "for x in np.nditer(arr):\n",
    "    print(x)          # ek hi line me lane ke liye nditer kyuki esme ek hi loop me ho jata hai line by line"
   ]
  },
  {
   "cell_type": "code",
   "execution_count": 34,
   "id": "93c5af75-68d6-46ec-85af-787e24a16ad5",
   "metadata": {},
   "outputs": [
    {
     "name": "stdout",
     "output_type": "stream",
     "text": [
      "1\n",
      "2\n",
      "5\n",
      "6\n"
     ]
    }
   ],
   "source": [
    "arr=np.array([[[1,2],[3,4],[5,6],[7,8]]])\n",
    "for x in np.nditer(arr[:,::2]):\n",
    "    print(x) "
   ]
  },
  {
   "cell_type": "code",
   "execution_count": null,
   "id": "e6144250-b304-4780-ac32-5d2d0082d59f",
   "metadata": {},
   "outputs": [],
   "source": []
  }
 ],
 "metadata": {
  "kernelspec": {
   "display_name": "Python 3 (ipykernel)",
   "language": "python",
   "name": "python3"
  },
  "language_info": {
   "codemirror_mode": {
    "name": "ipython",
    "version": 3
   },
   "file_extension": ".py",
   "mimetype": "text/x-python",
   "name": "python",
   "nbconvert_exporter": "python",
   "pygments_lexer": "ipython3",
   "version": "3.12.4"
  }
 },
 "nbformat": 4,
 "nbformat_minor": 5
}
