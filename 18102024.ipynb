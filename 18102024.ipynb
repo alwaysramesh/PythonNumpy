{
 "cells": [
  {
   "cell_type": "code",
   "execution_count": 1,
   "id": "e6cbfa4e-f812-4e30-88e6-d56279b8d5f4",
   "metadata": {},
   "outputs": [],
   "source": [
    "# flatten() function - convert a multi-dimensional array into a one-dimensional array"
   ]
  },
  {
   "cell_type": "code",
   "execution_count": 2,
   "id": "5e55ac28-488b-4752-b4a9-a7a123d76bfe",
   "metadata": {},
   "outputs": [],
   "source": [
    "import numpy as np"
   ]
  },
  {
   "cell_type": "code",
   "execution_count": 3,
   "id": "5479c472-db72-43a4-9a68-a556bdee6322",
   "metadata": {},
   "outputs": [],
   "source": [
    "a = np.array([[1,4,7],[2,5,8],[3,6,9]])"
   ]
  },
  {
   "cell_type": "code",
   "execution_count": 4,
   "id": "e6ad3d6d-a273-475c-9bb1-af8242403527",
   "metadata": {},
   "outputs": [
    {
     "name": "stdout",
     "output_type": "stream",
     "text": [
      "[1 4 7 2 5 8 3 6 9]\n"
     ]
    }
   ],
   "source": [
    "b = a.flatten()\n",
    "print(b)"
   ]
  },
  {
   "cell_type": "code",
   "execution_count": 5,
   "id": "85da41e1-eff3-4af9-81e8-82fa7e97a309",
   "metadata": {},
   "outputs": [
    {
     "name": "stdout",
     "output_type": "stream",
     "text": [
      "[1 2 3 4 5 6 7 8 9]\n"
     ]
    }
   ],
   "source": [
    "b = a.flatten('F')\n",
    "print(b)"
   ]
  },
  {
   "cell_type": "code",
   "execution_count": 6,
   "id": "decd2cfa-d25b-46b4-bec6-0a1a76b693a2",
   "metadata": {},
   "outputs": [],
   "source": [
    "# F likhne se column wise print hoga"
   ]
  },
  {
   "cell_type": "code",
   "execution_count": 7,
   "id": "6b8a4647-8ab7-4c37-b09f-a87a5b2ac356",
   "metadata": {},
   "outputs": [],
   "source": [
    "# indexing and slicing\n"
   ]
  },
  {
   "cell_type": "code",
   "execution_count": 9,
   "id": "851fe7df-5bc2-4e23-86ac-7a9682814a6d",
   "metadata": {},
   "outputs": [],
   "source": [
    "arr =np.array([1,2,3,4,5,6,7])"
   ]
  },
  {
   "cell_type": "code",
   "execution_count": 11,
   "id": "9bce7f68-dfdc-470b-9468-652d329c7b70",
   "metadata": {},
   "outputs": [
    {
     "name": "stdout",
     "output_type": "stream",
     "text": [
      "[1 3 5 7]\n"
     ]
    }
   ],
   "source": [
    "print(arr[::2])"
   ]
  },
  {
   "cell_type": "code",
   "execution_count": 12,
   "id": "268f54a9-f0ad-48e9-84ec-c252269792cd",
   "metadata": {},
   "outputs": [
    {
     "name": "stdout",
     "output_type": "stream",
     "text": [
      "[1 2]\n"
     ]
    }
   ],
   "source": [
    "print(arr[:2])"
   ]
  },
  {
   "cell_type": "code",
   "execution_count": 13,
   "id": "58ed49c1-b29f-4020-84a4-05c40a3efad1",
   "metadata": {},
   "outputs": [
    {
     "name": "stdout",
     "output_type": "stream",
     "text": [
      "[3 4 5 6 7]\n"
     ]
    }
   ],
   "source": [
    "print(arr[2:])"
   ]
  },
  {
   "cell_type": "code",
   "execution_count": 14,
   "id": "81b86692-ff87-4e94-8d77-a1f567c45305",
   "metadata": {},
   "outputs": [
    {
     "name": "stdout",
     "output_type": "stream",
     "text": [
      "[1 4]\n"
     ]
    }
   ],
   "source": [
    "print(arr[:5:3])"
   ]
  },
  {
   "cell_type": "code",
   "execution_count": 15,
   "id": "e30c670f-d05d-42bd-bcbd-7364634b8c24",
   "metadata": {},
   "outputs": [
    {
     "name": "stdout",
     "output_type": "stream",
     "text": [
      "[5]\n"
     ]
    }
   ],
   "source": [
    "print(arr[4::4])"
   ]
  },
  {
   "cell_type": "code",
   "execution_count": 16,
   "id": "03657aae-9f34-41c7-8bba-c8e554f79f30",
   "metadata": {},
   "outputs": [
    {
     "name": "stdout",
     "output_type": "stream",
     "text": [
      "[]\n"
     ]
    }
   ],
   "source": [
    "print(arr[1:1:1])"
   ]
  },
  {
   "cell_type": "code",
   "execution_count": 17,
   "id": "c927ce10-887f-437f-9114-21d4f31dcde1",
   "metadata": {},
   "outputs": [
    {
     "name": "stdout",
     "output_type": "stream",
     "text": [
      "4\n"
     ]
    }
   ],
   "source": [
    "print(arr[3])"
   ]
  },
  {
   "cell_type": "code",
   "execution_count": 18,
   "id": "21edbf33-f7d0-4012-bb9e-ee3cddc6b531",
   "metadata": {},
   "outputs": [
    {
     "name": "stdout",
     "output_type": "stream",
     "text": [
      "[3 4 5]\n"
     ]
    }
   ],
   "source": [
    "print(arr[2:5])"
   ]
  },
  {
   "cell_type": "code",
   "execution_count": 19,
   "id": "75fe4447-bcee-4577-91f9-2e117eaf7b45",
   "metadata": {},
   "outputs": [
    {
     "name": "stdout",
     "output_type": "stream",
     "text": [
      "[5 6]\n"
     ]
    }
   ],
   "source": [
    "print(arr[-3:-1])"
   ]
  },
  {
   "cell_type": "code",
   "execution_count": 20,
   "id": "a3a4c315-0d4b-468b-937e-b7031a90c7ff",
   "metadata": {},
   "outputs": [
    {
     "name": "stdout",
     "output_type": "stream",
     "text": [
      "[7 6 5 4 3 2 1]\n"
     ]
    }
   ],
   "source": [
    "print(arr[::-1])"
   ]
  },
  {
   "cell_type": "code",
   "execution_count": null,
   "id": "f5d5db18-02dc-4d2a-9d90-cbc6ab6dd275",
   "metadata": {},
   "outputs": [],
   "source": []
  }
 ],
 "metadata": {
  "kernelspec": {
   "display_name": "Python 3 (ipykernel)",
   "language": "python",
   "name": "python3"
  },
  "language_info": {
   "codemirror_mode": {
    "name": "ipython",
    "version": 3
   },
   "file_extension": ".py",
   "mimetype": "text/x-python",
   "name": "python",
   "nbconvert_exporter": "python",
   "pygments_lexer": "ipython3",
   "version": "3.12.4"
  }
 },
 "nbformat": 4,
 "nbformat_minor": 5
}
