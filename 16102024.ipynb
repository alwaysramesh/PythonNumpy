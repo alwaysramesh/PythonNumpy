{
 "cells": [
  {
   "cell_type": "code",
   "execution_count": 1,
   "id": "e5c58d42-1575-4d7a-a35d-6ce7b8d2e0c6",
   "metadata": {},
   "outputs": [],
   "source": [
    "import numpy as np"
   ]
  },
  {
   "cell_type": "code",
   "execution_count": 2,
   "id": "cefb52a1-0ca2-4a5a-a7c2-ad0fe74c2e3f",
   "metadata": {},
   "outputs": [],
   "source": [
    "arr = np.array([1,0,3])"
   ]
  },
  {
   "cell_type": "code",
   "execution_count": 3,
   "id": "414c982f-357a-46fd-974c-e8429967a5a8",
   "metadata": {},
   "outputs": [],
   "source": [
    "newarr = arr.astype(bool)"
   ]
  },
  {
   "cell_type": "code",
   "execution_count": 4,
   "id": "265bb9c5-7db8-400f-aa59-56e54c04352e",
   "metadata": {},
   "outputs": [
    {
     "name": "stdout",
     "output_type": "stream",
     "text": [
      "[ True False  True]\n"
     ]
    }
   ],
   "source": [
    "print(newarr)"
   ]
  },
  {
   "cell_type": "code",
   "execution_count": 5,
   "id": "cbb1814f-7800-4802-870f-b0ae08f731da",
   "metadata": {},
   "outputs": [
    {
     "name": "stdout",
     "output_type": "stream",
     "text": [
      "bool\n"
     ]
    }
   ],
   "source": [
    "print(newarr.dtype)"
   ]
  },
  {
   "cell_type": "code",
   "execution_count": 6,
   "id": "58958872-12fc-4d11-95f5-22bde952af7f",
   "metadata": {},
   "outputs": [],
   "source": [
    "# ndim = no. of dimension\n"
   ]
  },
  {
   "cell_type": "code",
   "execution_count": 8,
   "id": "742efba6-3ed6-49e8-90cc-3677e7ce7570",
   "metadata": {},
   "outputs": [],
   "source": [
    "a = np.array([[1,2,3,4]])"
   ]
  },
  {
   "cell_type": "code",
   "execution_count": 9,
   "id": "204e907a-d235-44c4-aaf2-472002d1df55",
   "metadata": {},
   "outputs": [
    {
     "name": "stdout",
     "output_type": "stream",
     "text": [
      "2\n"
     ]
    }
   ],
   "source": [
    "print(a.ndim)"
   ]
  },
  {
   "cell_type": "code",
   "execution_count": 10,
   "id": "774602c6-3038-45c1-826d-84b0a6bd843e",
   "metadata": {},
   "outputs": [],
   "source": [
    "a = np.array([1,2,3,4])"
   ]
  },
  {
   "cell_type": "code",
   "execution_count": 11,
   "id": "742a2781-358d-49af-8ba8-ced5ef5363cf",
   "metadata": {},
   "outputs": [
    {
     "name": "stdout",
     "output_type": "stream",
     "text": [
      "1\n"
     ]
    }
   ],
   "source": [
    "print(a.ndim)"
   ]
  },
  {
   "cell_type": "code",
   "execution_count": 12,
   "id": "4e0081bf-c345-4b91-a44a-b0139c56a4fc",
   "metadata": {},
   "outputs": [],
   "source": [
    "a = np.array([[1,2,3,4],[2,2,3,4]])"
   ]
  },
  {
   "cell_type": "code",
   "execution_count": 14,
   "id": "577fd2c1-2171-4b19-8ed9-8eda757e9702",
   "metadata": {},
   "outputs": [
    {
     "name": "stdout",
     "output_type": "stream",
     "text": [
      "2\n"
     ]
    }
   ],
   "source": [
    "print(a.ndim)"
   ]
  },
  {
   "cell_type": "code",
   "execution_count": 15,
   "id": "f17d4358-bfe3-4336-901d-c041329bac31",
   "metadata": {},
   "outputs": [
    {
     "name": "stdout",
     "output_type": "stream",
     "text": [
      "3\n"
     ]
    }
   ],
   "source": [
    "a = np.array([[[1,2,3,4]]])\n",
    "print(a.ndim)"
   ]
  },
  {
   "cell_type": "code",
   "execution_count": 16,
   "id": "1a96947d-8fbd-4c8a-877b-afb14b519f48",
   "metadata": {},
   "outputs": [
    {
     "name": "stdout",
     "output_type": "stream",
     "text": [
      "[[[1 2 3 4]]]\n"
     ]
    }
   ],
   "source": [
    "print(a)"
   ]
  },
  {
   "cell_type": "code",
   "execution_count": 17,
   "id": "56cb5e62-9fa6-495e-b574-3757f901fbab",
   "metadata": {},
   "outputs": [
    {
     "name": "stdout",
     "output_type": "stream",
     "text": [
      "(1, 1, 4)\n"
     ]
    }
   ],
   "source": [
    "# shape\n",
    "print(a.shape)"
   ]
  },
  {
   "cell_type": "code",
   "execution_count": 19,
   "id": "31575a8a-d9af-40fd-968d-2a1b62c192f9",
   "metadata": {},
   "outputs": [
    {
     "name": "stdout",
     "output_type": "stream",
     "text": [
      "3\n",
      "(2, 3, 4)\n"
     ]
    }
   ],
   "source": [
    "a = np.array([[[1,2,3,4],[3,4,2,5],[3,2,6,4]],[[1,2,3,4],[3,4,2,5],[3,2,6,4]]])\n",
    "print(a.ndim)\n",
    "print(a.shape)"
   ]
  },
  {
   "cell_type": "code",
   "execution_count": 20,
   "id": "cd355dc8-adfe-4b00-a6c0-709ba6312084",
   "metadata": {},
   "outputs": [
    {
     "name": "stdout",
     "output_type": "stream",
     "text": [
      "(3,)\n"
     ]
    }
   ],
   "source": [
    "a = np.array([1,2,3])\n",
    "print(a.shape)"
   ]
  },
  {
   "cell_type": "code",
   "execution_count": 21,
   "id": "fdbdb779-f7a7-4e2f-9683-d9b866acf14c",
   "metadata": {},
   "outputs": [
    {
     "name": "stdout",
     "output_type": "stream",
     "text": [
      "3\n",
      "(1, 1, 3)\n",
      "[[[1 2 3]]]\n"
     ]
    }
   ],
   "source": [
    "a = np.array([1,2,3],ndmin = 3)\n",
    "print(a.ndim)\n",
    "print(a.shape)\n",
    "print(a)"
   ]
  },
  {
   "cell_type": "code",
   "execution_count": null,
   "id": "0cce0145-37a9-4372-a6e0-6891dcfe8c59",
   "metadata": {},
   "outputs": [],
   "source": [
    "\n"
   ]
  }
 ],
 "metadata": {
  "kernelspec": {
   "display_name": "Python 3 (ipykernel)",
   "language": "python",
   "name": "python3"
  },
  "language_info": {
   "codemirror_mode": {
    "name": "ipython",
    "version": 3
   },
   "file_extension": ".py",
   "mimetype": "text/x-python",
   "name": "python",
   "nbconvert_exporter": "python",
   "pygments_lexer": "ipython3",
   "version": "3.12.4"
  }
 },
 "nbformat": 4,
 "nbformat_minor": 5
}
