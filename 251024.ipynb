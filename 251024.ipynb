{
 "cells": [
  {
   "cell_type": "code",
   "execution_count": 1,
   "id": "a80ebe6a-39fb-4c96-a513-d32210321268",
   "metadata": {},
   "outputs": [],
   "source": [
    "import numpy as np"
   ]
  },
  {
   "cell_type": "code",
   "execution_count": 3,
   "id": "5c43770c-f37b-41a4-9cb4-6a3816e60d6e",
   "metadata": {},
   "outputs": [
    {
     "name": "stdout",
     "output_type": "stream",
     "text": [
      "(0,) 1\n",
      "(1,) 2\n",
      "(2,) 3\n",
      "(3,) 4\n"
     ]
    }
   ],
   "source": [
    "arr=np.array([1,2,3,4])\n",
    "for idx, x in np.ndenumerate(arr):\n",
    "   print(idx,x)"
   ]
  },
  {
   "cell_type": "code",
   "execution_count": 4,
   "id": "58471276-4345-4b06-b389-18511e115653",
   "metadata": {},
   "outputs": [
    {
     "name": "stdout",
     "output_type": "stream",
     "text": [
      "(0, 0) 1\n",
      "(0, 1) 2\n",
      "(0, 2) 3\n",
      "(0, 3) 4\n",
      "(1, 0) 4\n",
      "(1, 1) 6\n",
      "(1, 2) 8\n",
      "(1, 3) 9\n"
     ]
    }
   ],
   "source": [
    "arr=np.array([[1,2,3,4],[4,6,8,9]])\n",
    "for idx, x in np.ndenumerate(arr):\n",
    "   print(idx,x)"
   ]
  },
  {
   "cell_type": "code",
   "execution_count": 8,
   "id": "1c2388d2-7776-4901-926d-f101dad6bb44",
   "metadata": {},
   "outputs": [
    {
     "name": "stdout",
     "output_type": "stream",
     "text": [
      "(0, 0, 0) 1\n",
      "(0, 0, 1) 2\n",
      "(0, 1, 0) 3\n",
      "(0, 1, 1) 4\n",
      "(0, 2, 0) 4\n",
      "(0, 2, 1) 6\n",
      "(0, 3, 0) 8\n",
      "(0, 3, 1) 9\n"
     ]
    }
   ],
   "source": [
    "arr=np.array([[[1,2],[3,4],[4,6],[8,9]]])\n",
    "for idx, x in np.ndenumerate(arr):\n",
    "   print(idx,x)"
   ]
  },
  {
   "cell_type": "code",
   "execution_count": 10,
   "id": "806c81f3-fc93-4850-9535-b3711e5eae41",
   "metadata": {},
   "outputs": [
    {
     "name": "stdout",
     "output_type": "stream",
     "text": [
      "(0, 0, 0) 1\n",
      "(0, 0, 1) 2\n",
      "(0, 1, 0) 3\n",
      "(0, 1, 1) 4\n",
      "(1, 0, 0) 4\n",
      "(1, 0, 1) 6\n",
      "(1, 1, 0) 8\n",
      "(1, 1, 1) 9\n"
     ]
    }
   ],
   "source": [
    "arr=np.array([[[1,2],[3,4]],[[4,6],[8,9]]])\n",
    "for idx, x in np.ndenumerate(arr):\n",
    "   print(idx,x)"
   ]
  },
  {
   "cell_type": "code",
   "execution_count": 13,
   "id": "eb96ab3e-495c-4a54-b52e-9946a8a63201",
   "metadata": {},
   "outputs": [
    {
     "name": "stdout",
     "output_type": "stream",
     "text": [
      "[[[1 2]\n",
      "  [3 4]]\n",
      "\n",
      " [[4 6]\n",
      "  [8 9]]]\n"
     ]
    }
   ],
   "source": [
    "arr=np.array([[[1,2],[3,4]],[[4,6],[8,9]]])\n",
    "\n",
    "print(arr)"
   ]
  },
  {
   "cell_type": "code",
   "execution_count": 27,
   "id": "a7a3a946-8576-4c09-ae76-22540ef94f9d",
   "metadata": {},
   "outputs": [
    {
     "name": "stdout",
     "output_type": "stream",
     "text": [
      "[1 2 3 4 5 6]\n"
     ]
    }
   ],
   "source": [
    "arr1=np.array([1,2,3])\n",
    "arr2=np.array([4,5,6])\n",
    "arr=np.concatenate((arr1,arr2),axis=0)\n",
    "print(arr)"
   ]
  },
  {
   "cell_type": "code",
   "execution_count": 26,
   "id": "ebf14132-159f-433e-b8d3-9d686e1fcd2d",
   "metadata": {},
   "outputs": [
    {
     "name": "stdout",
     "output_type": "stream",
     "text": [
      "[[1 2 5 6]\n",
      " [3 4 7 8]]\n"
     ]
    }
   ],
   "source": [
    "arr1=np.array([[1,2],[3,4]])\n",
    "arr2=np.array([[5,6],[7,8]])\n",
    "arr=np.concatenate((arr1,arr2),axis=1)\n",
    "print(arr)"
   ]
  },
  {
   "cell_type": "code",
   "execution_count": 30,
   "id": "bf880ec2-fecf-490d-971f-693429edc5a3",
   "metadata": {},
   "outputs": [
    {
     "name": "stdout",
     "output_type": "stream",
     "text": [
      "[[1 2 3]\n",
      " [4 5 6]]\n",
      "\n",
      "[[1 4]\n",
      " [2 5]\n",
      " [3 6]]\n"
     ]
    }
   ],
   "source": [
    "arr1=np.array([1,2,3])\n",
    "arr2=np.array([4,5,6])\n",
    "arr3=np.stack((arr1,arr2))\n",
    "print(arr3)\n",
    "arr=np.stack((arr1,arr2), axis=1)\n",
    "print()\n",
    "print(arr)       #stack= colomn wise karta hai"
   ]
  },
  {
   "cell_type": "code",
   "execution_count": 34,
   "id": "c59a2314-5014-4250-b803-8c3c0c98d6e8",
   "metadata": {},
   "outputs": [
    {
     "name": "stdout",
     "output_type": "stream",
     "text": [
      "[1 2 3 4 5 6]\n",
      "\n",
      "[[1 2 3]\n",
      " [4 5 6]]\n"
     ]
    }
   ],
   "source": [
    "arr1=np.array([1,2,3])\n",
    "arr2=np.array([4,5,6])\n",
    "arr3=np.hstack((arr1,arr2))\n",
    "arr4=np.vstack((arr1,arr2))\n",
    "print(arr3)\n",
    "print()\n",
    "print(arr4)"
   ]
  },
  {
   "cell_type": "code",
   "execution_count": 41,
   "id": "89e7664a-63cf-4664-95ec-309bee327d32",
   "metadata": {},
   "outputs": [
    {
     "name": "stdout",
     "output_type": "stream",
     "text": [
      "[array([1, 2]), array([3, 4]), array([5, 6])]\n",
      "[array([1, 2]), array([3, 4]), array([5]), array([6])]\n"
     ]
    }
   ],
   "source": [
    "arr1=np.array([1,2,3,4,5,6])\n",
    "newarr=np.array_split(arr1,3)\n",
    "print(newarr)\n",
    "newarr1=np.array_split(arr1,4)\n",
    "print(newarr1)"
   ]
  },
  {
   "cell_type": "code",
   "execution_count": null,
   "id": "b1cfc739-4875-4e03-a85e-86f09a93f5a0",
   "metadata": {},
   "outputs": [],
   "source": []
  }
 ],
 "metadata": {
  "kernelspec": {
   "display_name": "Python 3 (ipykernel)",
   "language": "python",
   "name": "python3"
  },
  "language_info": {
   "codemirror_mode": {
    "name": "ipython",
    "version": 3
   },
   "file_extension": ".py",
   "mimetype": "text/x-python",
   "name": "python",
   "nbconvert_exporter": "python",
   "pygments_lexer": "ipython3",
   "version": "3.12.4"
  }
 },
 "nbformat": 4,
 "nbformat_minor": 5
}
