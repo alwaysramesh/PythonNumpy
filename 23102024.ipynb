{
 "cells": [
  {
   "cell_type": "code",
   "execution_count": 4,
   "id": "34227cce-9857-45d3-9295-ce47e3989dc2",
   "metadata": {},
   "outputs": [],
   "source": [
    "# advanced indexing"
   ]
  },
  {
   "cell_type": "code",
   "execution_count": 2,
   "id": "94f4c6e9-086e-4b98-9b84-bbff604720c2",
   "metadata": {},
   "outputs": [],
   "source": [
    "import numpy as np"
   ]
  },
  {
   "cell_type": "code",
   "execution_count": 3,
   "id": "6e41512f-62de-4cd5-b66e-ea584fb0a6f7",
   "metadata": {},
   "outputs": [
    {
     "name": "stdout",
     "output_type": "stream",
     "text": [
      "[1 4 5]\n"
     ]
    }
   ],
   "source": [
    "x = np.array([[1,2],[3,4],[5,6]])\n",
    "y = x[[0,1,2],[0,1,0]]\n",
    "print(y)"
   ]
  },
  {
   "cell_type": "code",
   "execution_count": 5,
   "id": "7af4cdb0-e83e-4964-8c7e-702faf537c04",
   "metadata": {},
   "outputs": [
    {
     "name": "stdout",
     "output_type": "stream",
     "text": [
      "[1 5 9]\n"
     ]
    }
   ],
   "source": [
    "a = np.array([[1,2,3],[4,5,6],[7,8,9]])\n",
    "b = a[[0,1,2],[0,1,2]]\n",
    "print(b)"
   ]
  },
  {
   "cell_type": "code",
   "execution_count": 6,
   "id": "76ca7dab-bbfc-47bd-8105-34f17e5afc12",
   "metadata": {},
   "outputs": [
    {
     "name": "stdout",
     "output_type": "stream",
     "text": [
      "[[ 0  1  2]\n",
      " [ 3  4  5]\n",
      " [ 6  7  8]\n",
      " [ 9 10 11]]\n"
     ]
    }
   ],
   "source": [
    "x = np.array([[0,1,2],[3,4,5],[6,7,8],[9,10,11]])\n",
    "print(x)\n"
   ]
  },
  {
   "cell_type": "code",
   "execution_count": 7,
   "id": "53106a7c-41f3-4ce6-9ba1-c730331f6c1a",
   "metadata": {},
   "outputs": [],
   "source": [
    "#slicing"
   ]
  },
  {
   "cell_type": "code",
   "execution_count": 9,
   "id": "c1897b59-cedd-4185-a328-a7f68fe7a5e5",
   "metadata": {},
   "outputs": [
    {
     "name": "stdout",
     "output_type": "stream",
     "text": [
      "After slicing, our array becomes.\n",
      "[[ 0  1  2]\n",
      " [ 3  4  5]\n",
      " [ 6  7  8]\n",
      " [ 9 10 11]]\n"
     ]
    }
   ],
   "source": [
    "z = x[1:4,1:3]\n",
    "print('After slicing, our array becomes.')\n",
    "print(x)"
   ]
  },
  {
   "cell_type": "code",
   "execution_count": 10,
   "id": "b8d49304-b135-4e09-90e6-161580f9a2aa",
   "metadata": {},
   "outputs": [],
   "source": [
    "# using advanced index for column"
   ]
  },
  {
   "cell_type": "code",
   "execution_count": 12,
   "id": "c6419e45-29b4-4620-9293-ba407dec4114",
   "metadata": {},
   "outputs": [
    {
     "name": "stdout",
     "output_type": "stream",
     "text": [
      "Slicing using advanced index for column.\n",
      "[[ 4  5]\n",
      " [ 7  8]\n",
      " [10 11]]\n"
     ]
    }
   ],
   "source": [
    "y = x[1:4,[1,2]]\n",
    "print('Slicing using advanced index for column.')\n",
    "print(y)"
   ]
  },
  {
   "cell_type": "code",
   "execution_count": 14,
   "id": "00d3095c-d21d-4e65-a089-14105fa0c930",
   "metadata": {},
   "outputs": [
    {
     "name": "stdout",
     "output_type": "stream",
     "text": [
      "[[False False  True]\n",
      " [False  True  True]\n",
      " [ True False  True]]\n",
      "[ 7  6  8 23  7]\n"
     ]
    }
   ],
   "source": [
    "a = np.array([[1,2,7],[3,6,8],[23,4,7]])\n",
    "print(a>5)\n",
    "print(a[a>5])"
   ]
  },
  {
   "cell_type": "code",
   "execution_count": 15,
   "id": "83ee25bb-03aa-4767-be82-3654df4dad44",
   "metadata": {},
   "outputs": [],
   "source": [
    "# Copy and View"
   ]
  },
  {
   "cell_type": "code",
   "execution_count": 16,
   "id": "d913b725-f535-4584-a160-d487a807a1a7",
   "metadata": {},
   "outputs": [
    {
     "name": "stdout",
     "output_type": "stream",
     "text": [
      "Original array -  [12  4  6  8 10]\n",
      "Assigned array -  [12  4  6  8 10]\n"
     ]
    }
   ],
   "source": [
    "arr = np.array([2,4,6,8,10])\n",
    "nc = arr\n",
    "nc[0] = 12\n",
    "# Printing the values\n",
    "print(\"Original array - \",arr)\n",
    "print(\"Assigned array - \",nc)"
   ]
  },
  {
   "cell_type": "code",
   "execution_count": 17,
   "id": "8fdfd31c-f65a-4170-b9aa-42ed4e2a403c",
   "metadata": {},
   "outputs": [
    {
     "name": "stdout",
     "output_type": "stream",
     "text": [
      "[42  2  3  4  5]\n",
      "[1 2 3 4 5]\n"
     ]
    }
   ],
   "source": [
    "arr = np.array([1,2,3,4,5])\n",
    "x = arr.copy()\n",
    "arr[0] = 42\n",
    "print(arr)\n",
    "print(x)"
   ]
  },
  {
   "cell_type": "code",
   "execution_count": null,
   "id": "3eb6cd15-23a9-4269-968e-6754cd5fc7f9",
   "metadata": {},
   "outputs": [],
   "source": []
  }
 ],
 "metadata": {
  "kernelspec": {
   "display_name": "Python 3 (ipykernel)",
   "language": "python",
   "name": "python3"
  },
  "language_info": {
   "codemirror_mode": {
    "name": "ipython",
    "version": 3
   },
   "file_extension": ".py",
   "mimetype": "text/x-python",
   "name": "python",
   "nbconvert_exporter": "python",
   "pygments_lexer": "ipython3",
   "version": "3.12.4"
  }
 },
 "nbformat": 4,
 "nbformat_minor": 5
}
