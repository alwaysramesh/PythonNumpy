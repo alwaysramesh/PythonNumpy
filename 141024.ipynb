{
 "cells": [
  {
   "cell_type": "code",
   "execution_count": 4,
   "id": "629ed07b-a5d1-45d6-af67-5dc851f2220a",
   "metadata": {},
   "outputs": [
    {
     "name": "stdout",
     "output_type": "stream",
     "text": [
      "[-1.81720762e+057  1.83161365e-238]\n"
     ]
    }
   ],
   "source": [
    "import numpy as np\n",
    "d=np.empty(2)\n",
    "print(d)"
   ]
  },
  {
   "cell_type": "code",
   "execution_count": 18,
   "id": "ddbc44b0-a6c9-483a-b32a-f95f81d74e75",
   "metadata": {},
   "outputs": [
    {
     "name": "stdout",
     "output_type": "stream",
     "text": [
      "[1.81720762e+057 1.83161365e-238]\n"
     ]
    }
   ],
   "source": [
    "import numpy as np\n",
    "e=np.empty(2)\n",
    "print(e)"
   ]
  },
  {
   "cell_type": "code",
   "execution_count": 7,
   "id": "e06b3435-865a-4db4-aa3a-497aec15ab37",
   "metadata": {},
   "outputs": [
    {
     "name": "stdout",
     "output_type": "stream",
     "text": [
      "[[[-1.72083179 -1.83488746 -0.89246158  0.43049733]\n",
      "  [ 0.00964108 -1.82442195  0.53631267  0.59954361]\n",
      "  [-1.99586587 -1.70246493  1.5641695   0.1103234 ]]\n",
      "\n",
      " [[ 0.83308442  1.64966425 -0.38440608  1.02263257]\n",
      "  [-0.37849912 -0.55609997  1.47085113 -0.35170383]\n",
      "  [-1.88530016  1.40331851 -1.36709661  0.6381692 ]]]\n"
     ]
    }
   ],
   "source": [
    "a=np.random.randn(2,3,4)\n",
    "print(a)"
   ]
  },
  {
   "cell_type": "code",
   "execution_count": 15,
   "id": "91eb74ac-2803-4ba4-bd23-230451d75629",
   "metadata": {},
   "outputs": [
    {
     "name": "stdout",
     "output_type": "stream",
     "text": [
      "[[[0.38088332 0.7245575  0.16892861 0.23715828]\n",
      "  [0.3876577  0.51804243 0.11213802 0.11004499]\n",
      "  [0.72291303 0.2915532  0.59062164 0.79284705]]\n",
      "\n",
      " [[0.86230476 0.52719594 0.67104616 0.68094668]\n",
      "  [0.6153713  0.75311102 0.69647475 0.14497437]\n",
      "  [0.55251443 0.53981017 0.02934872 0.06654368]]\n",
      "\n",
      " [[0.06495873 0.56488246 0.61317615 0.97178973]\n",
      "  [0.85291476 0.45591793 0.8813082  0.98581353]\n",
      "  [0.30772325 0.54994151 0.59990071 0.49556191]]]\n"
     ]
    }
   ],
   "source": [
    "a=np.random.rand(3,3,4)\n",
    "print(a)"
   ]
  },
  {
   "cell_type": "code",
   "execution_count": 17,
   "id": "edb751bd-b469-446e-ba3a-6d87d2e489f8",
   "metadata": {},
   "outputs": [
    {
     "name": "stdout",
     "output_type": "stream",
     "text": [
      "[0 2 1]\n"
     ]
    }
   ],
   "source": [
    "a=np.random.randint((3,3,4))\n",
    "print(a)"
   ]
  },
  {
   "cell_type": "code",
   "execution_count": 19,
   "id": "670a2bd7-1a7e-46f3-a36b-57ab665c9c7c",
   "metadata": {},
   "outputs": [
    {
     "name": "stdout",
     "output_type": "stream",
     "text": [
      "[1.5e-323 1.5e-323 2.0e-323]\n"
     ]
    }
   ],
   "source": [
    "d=np.empty(3)\n",
    "print(d)"
   ]
  },
  {
   "cell_type": "code",
   "execution_count": null,
   "id": "b6e9fa23-7cdd-4de0-9e14-c7f37bbfce92",
   "metadata": {},
   "outputs": [],
   "source": [
    "# Function"
   ]
  },
  {
   "cell_type": "code",
   "execution_count": 26,
   "id": "f46a787c-2bae-414e-bd28-a47b284269c3",
   "metadata": {},
   "outputs": [
    {
     "name": "stdout",
     "output_type": "stream",
     "text": [
      "[ 121.          127.06861089  133.44158573  140.13418954  147.16245292\n",
      "  154.54321048  162.29414114  170.4338105   178.98171528  187.95833005\n",
      "  197.38515624  207.28477367  217.68089462  228.59842063  240.06350216\n",
      "  252.1036012   264.74755707  278.02565548  291.96970111  306.61309374\n",
      "  321.99090828  338.1399788   355.09898672  372.90855348  391.61133786\n",
      "  411.25213811  431.8779993   453.53832599  476.28500058  500.17250753\n",
      "  525.25806395  551.60175658  579.26668573  608.31911646  638.82863725\n",
      "  670.86832671  704.51492865  739.84903583  776.95528307  815.92254996\n",
      "  856.8441737   899.81817275  944.94748153  992.34019705 1042.10983778\n",
      " 1094.37561556 1149.26272117 1206.9026242  1267.43338792 1331.        ]\n"
     ]
    }
   ],
   "source": [
    "d=np.logspace(2.0,3.0,base=11)\n",
    "print(d)"
   ]
  },
  {
   "cell_type": "code",
   "execution_count": 24,
   "id": "d906ceb4-baf0-4296-b43b-c5037a21960e",
   "metadata": {},
   "outputs": [
    {
     "name": "stdout",
     "output_type": "stream",
     "text": [
      "[ 100.          177.827941    316.22776602  562.34132519 1000.        ]\n"
     ]
    }
   ],
   "source": [
    "d=np.logspace(2.0,3.0,num=5)\n",
    "print(d)"
   ]
  },
  {
   "cell_type": "code",
   "execution_count": 25,
   "id": "dfc3b5bf-43ef-4e8e-918e-cf174f78b259",
   "metadata": {},
   "outputs": [
    {
     "name": "stdout",
     "output_type": "stream",
     "text": [
      "[ 1000.          1778.27941004  3162.27766017  5623.4132519\n",
      " 10000.        ]\n"
     ]
    }
   ],
   "source": [
    "d=np.logspace(3.0,4.0,num=5)\n",
    "print(d)"
   ]
  },
  {
   "cell_type": "code",
   "execution_count": 27,
   "id": "5d858ca2-afb3-4228-9b39-c3a45e423d76",
   "metadata": {},
   "outputs": [
    {
     "name": "stdout",
     "output_type": "stream",
     "text": [
      "[4.         4.05698555 4.11478293 4.17340372 4.23285965 4.2931626\n",
      " 4.35432466 4.41635805 4.4792752  4.54308869 4.60781129 4.67345595\n",
      " 4.74003581 4.8075642  4.87605462 4.94552078 5.01597658 5.08743612\n",
      " 5.15991371 5.23342383 5.30798122 5.38360077 5.46029763 5.53808714\n",
      " 5.61698488 5.69700662 5.77816838 5.8604864  5.94397716 6.02865736\n",
      " 6.11454394 6.2016541  6.29000526 6.37961511 6.47050158 6.56268285\n",
      " 6.65617737 6.75100385 6.84718126 6.94472885 7.04366615 7.14401294\n",
      " 7.24578931 7.34901563 7.45371255 7.55990103 7.6676023  7.77683793\n",
      " 7.88762977 8.        ]\n"
     ]
    }
   ],
   "source": [
    "d=np.logspace(2.0,3.0,base=2)\n",
    "print(d)"
   ]
  },
  {
   "cell_type": "code",
   "execution_count": 30,
   "id": "30fac188-47a3-498f-9913-5eb2ed0229ab",
   "metadata": {},
   "outputs": [
    {
     "name": "stdout",
     "output_type": "stream",
     "text": [
      "[ 4.  8. 16.]\n"
     ]
    }
   ],
   "source": [
    "d=np.logspace(2.0,4.0,num=3,base=2)\n",
    "print(d)"
   ]
  },
  {
   "cell_type": "code",
   "execution_count": null,
   "id": "f44119b8-73eb-4460-b626-6dd89397d12a",
   "metadata": {},
   "outputs": [],
   "source": [
    "# bsae 2 hai 2 do aa gyi aab tisri ke liye 2 aur 4 ke bich 3 to 2 ka power 3 to 8 aa gyi"
   ]
  },
  {
   "cell_type": "code",
   "execution_count": 35,
   "id": "d1894268-8446-4369-a399-51d3fd9d8969",
   "metadata": {},
   "outputs": [
    {
     "name": "stdout",
     "output_type": "stream",
     "text": [
      "[ 100  138  193  268  372  517  719 1000]\n"
     ]
    }
   ],
   "source": [
    "d = np.logspace(2.0, 3.0, num=8, dtype=int)\n",
    "print(d)"
   ]
  },
  {
   "cell_type": "code",
   "execution_count": 36,
   "id": "10fad0e2-ba33-42a0-836d-36c1b89fd334",
   "metadata": {},
   "outputs": [
    {
     "name": "stdout",
     "output_type": "stream",
     "text": [
      "[ 100.          138.94954944  193.06977289  268.26957953  372.75937203\n",
      "  517.94746792  719.685673   1000.        ]\n"
     ]
    }
   ],
   "source": [
    "d = np.logspace(2.0, 3.0, num=8, dtype=float)\n",
    "print(d)"
   ]
  },
  {
   "cell_type": "code",
   "execution_count": 37,
   "id": "0a72c2cf-c276-4fcc-a9b8-ca5312362f74",
   "metadata": {},
   "outputs": [
    {
     "name": "stdout",
     "output_type": "stream",
     "text": [
      "[0 1 2 3]\n"
     ]
    }
   ],
   "source": [
    "e=np.arange(4)\n",
    "print(e)"
   ]
  },
  {
   "cell_type": "code",
   "execution_count": 38,
   "id": "8d6676cf-7eed-49ae-83ff-63797d56e329",
   "metadata": {},
   "outputs": [
    {
     "name": "stdout",
     "output_type": "stream",
     "text": [
      "[ 0  1  2  3  4  5  6  7  8  9 10 11 12 13 14]\n"
     ]
    }
   ],
   "source": [
    "e=np.arange(15)\n",
    "print(e)"
   ]
  },
  {
   "cell_type": "code",
   "execution_count": 39,
   "id": "7812f7e2-d211-43ae-9be9-c94e349355ac",
   "metadata": {},
   "outputs": [
    {
     "name": "stdout",
     "output_type": "stream",
     "text": [
      "[2 3 4 5 6 7 8 9]\n"
     ]
    }
   ],
   "source": [
    "e=np.arange(2,10)\n",
    "print(e)"
   ]
  },
  {
   "cell_type": "code",
   "execution_count": 40,
   "id": "75fc94e0-00da-49af-be29-0da2c0795f73",
   "metadata": {},
   "outputs": [
    {
     "name": "stdout",
     "output_type": "stream",
     "text": [
      "[ 3  6  9 12 15 18 21 24 27 30]\n"
     ]
    }
   ],
   "source": [
    "e=np.arange(3,32,3)\n",
    "print(e)"
   ]
  },
  {
   "cell_type": "code",
   "execution_count": null,
   "id": "649bdf17-9d20-4ed4-ad97-05e60a936910",
   "metadata": {},
   "outputs": [],
   "source": []
  }
 ],
 "metadata": {
  "kernelspec": {
   "display_name": "Python 3 (ipykernel)",
   "language": "python",
   "name": "python3"
  },
  "language_info": {
   "codemirror_mode": {
    "name": "ipython",
    "version": 3
   },
   "file_extension": ".py",
   "mimetype": "text/x-python",
   "name": "python",
   "nbconvert_exporter": "python",
   "pygments_lexer": "ipython3",
   "version": "3.12.4"
  }
 },
 "nbformat": 4,
 "nbformat_minor": 5
}
