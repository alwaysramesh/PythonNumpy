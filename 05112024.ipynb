{
 "cells": [
  {
   "cell_type": "code",
   "execution_count": 2,
   "id": "d0fbf6f2-2453-4b47-a873-1fdcc41818ba",
   "metadata": {},
   "outputs": [],
   "source": [
    "import numpy as np"
   ]
  },
  {
   "cell_type": "code",
   "execution_count": 4,
   "id": "ee989f1c-9c6b-4375-bec8-d566a25cb2a2",
   "metadata": {},
   "outputs": [
    {
     "name": "stdout",
     "output_type": "stream",
     "text": [
      "[array([1, 2]), array([3, 4]), array([5, 6])]\n",
      "[3 4]\n"
     ]
    }
   ],
   "source": [
    "arr1=np.array([1,2,3,4,5,6])\n",
    "newarr=np.array_split(arr1,3)\n",
    "print(newarr)\n",
    "newarr1=np.array_split(arr1,4)\n",
    "print(newarr1[1])"
   ]
  },
  {
   "cell_type": "code",
   "execution_count": 5,
   "id": "02547bf0-83d6-4953-a26b-caa9395eff31",
   "metadata": {},
   "outputs": [
    {
     "name": "stdout",
     "output_type": "stream",
     "text": [
      "[1 2]\n",
      "[3 4]\n",
      "[5 6]\n"
     ]
    }
   ],
   "source": [
    "arr1=np.array([1,2,3,4,5,6])\n",
    "newarr1=np.array_split(arr1,3)\n",
    "print(newarr1[0])\n",
    "print(newarr1[1])\n",
    "print(newarr1[2])"
   ]
  },
  {
   "cell_type": "code",
   "execution_count": 8,
   "id": "8ea01ce8-fd7e-422d-b49d-0d65caa645e2",
   "metadata": {},
   "outputs": [
    {
     "name": "stdout",
     "output_type": "stream",
     "text": [
      "[array([[1, 2],\n",
      "       [3, 4]]), array([[5, 6],\n",
      "       [7, 8]]), array([[ 9, 10],\n",
      "       [11, 12]])]\n"
     ]
    }
   ],
   "source": [
    "arr1=np.array([[1,2],[3,4],[5,6],[7,8],[9,10],[11,12]])\n",
    "newarr1=np.array_split(arr1,3)\n",
    "\n",
    "print(newarr1)\n",
    "\n"
   ]
  },
  {
   "cell_type": "code",
   "execution_count": 9,
   "id": "345b9ac8-1119-4e09-9e70-a67fe72cd69b",
   "metadata": {},
   "outputs": [
    {
     "name": "stdout",
     "output_type": "stream",
     "text": [
      "[array([[1, 2],\n",
      "       [3, 4]]), array([[5, 6],\n",
      "       [7, 8]]), array([[ 9, 10],\n",
      "       [11, 12]])]\n",
      "[array([[ 1],\n",
      "       [ 3],\n",
      "       [ 5],\n",
      "       [ 7],\n",
      "       [ 9],\n",
      "       [11]]), array([[ 2],\n",
      "       [ 4],\n",
      "       [ 6],\n",
      "       [ 8],\n",
      "       [10],\n",
      "       [12]]), array([], shape=(6, 0), dtype=int32)]\n"
     ]
    }
   ],
   "source": [
    "\n",
    "arr1=np.array([[1,2],[3,4],[5,6],[7,8],[9,10],[11,12]])\n",
    "newarr1=np.array_split(arr1,3)\n",
    "\n",
    "print(newarr1)\n",
    "newarr1=np.array_split(arr1,3,axis=1)\n",
    "\n",
    "print(newarr1)\n"
   ]
  },
  {
   "cell_type": "code",
   "execution_count": 15,
   "id": "31dcdfa9-75a8-447b-85e5-1cc137c08d09",
   "metadata": {},
   "outputs": [
    {
     "name": "stdout",
     "output_type": "stream",
     "text": [
      "(array([1, 4, 5], dtype=int64),)\n",
      "(array([3, 6], dtype=int64),)\n",
      "(array([], dtype=int64),)\n"
     ]
    }
   ],
   "source": [
    "arr=np.array([1,5,3,4,5,5,4])\n",
    "x=np.where(arr == 5)\n",
    "print(x)\n",
    "x=np.where(arr%2==0)\n",
    "print(x)\n",
    "x=np.where(arr==0)\n",
    "print(x)"
   ]
  },
  {
   "cell_type": "code",
   "execution_count": 35,
   "id": "9f111a28-45f4-4a4c-84a5-19409aaa304f",
   "metadata": {},
   "outputs": [
    {
     "name": "stdout",
     "output_type": "stream",
     "text": [
      "[ 5  6  8 12]\n",
      "[12  8  6  5]\n",
      "[ 5  6  8 12]\n",
      "\n",
      "[[2 3 4]\n",
      " [0 1 5]]\n"
     ]
    }
   ],
   "source": [
    "arr1=np.array([5,8,6,12])\n",
    "print(np.sort(arr1))\n",
    "\n",
    "arr1[::-1].sort()\n",
    "print(arr1)\n",
    "\n",
    "print(np.sort(arr1[::-1]))\n",
    "print()\n",
    "\n",
    "arr1=np.array([[3,2,4],[5,0,1]])\n",
    "print(np.sort(arr1))"
   ]
  },
  {
   "cell_type": "code",
   "execution_count": 39,
   "id": "d25660ed-812b-4405-9575-baa29ff81a61",
   "metadata": {},
   "outputs": [
    {
     "name": "stdout",
     "output_type": "stream",
     "text": [
      "[False  True  True]\n",
      "['banana' 'cherry' 'apple' 'blueberry']\n"
     ]
    }
   ],
   "source": [
    "arr=np.array([True,False,True])\n",
    "print(np.sort(arr))\n",
    "arr=np.array(['banana','cherry','apple','blueberry'])\n",
    "print(arr)"
   ]
  },
  {
   "cell_type": "code",
   "execution_count": 47,
   "id": "ab51d0a2-8789-49eb-a8cb-4b945803305f",
   "metadata": {},
   "outputs": [
    {
     "name": "stdout",
     "output_type": "stream",
     "text": [
      "[[0. 1. 2.]\n",
      " [3. 4. 5.]\n",
      " [6. 7. 8.]]\n"
     ]
    },
    {
     "data": {
      "text/plain": [
       "array([[ 0.,  2.,  4.],\n",
       "       [ 3.,  5.,  7.],\n",
       "       [ 6.,  8., 10.]])"
      ]
     },
     "execution_count": 47,
     "metadata": {},
     "output_type": "execute_result"
    }
   ],
   "source": [
    "\n",
    "x1=np.arange(9.0).reshape((3,3))\n",
    "print(x1)\n",
    "x2=np.arange(3.0)\n",
    "np.add(x1,x2)\n"
   ]
  },
  {
   "cell_type": "code",
   "execution_count": 51,
   "id": "5f2ce1a1-cfc4-449c-bb6a-65af2459d337",
   "metadata": {},
   "outputs": [
    {
     "data": {
      "text/plain": [
       "array([[ 0.,  2.,  4.],\n",
       "       [ 3.,  5.,  7.],\n",
       "       [ 6.,  8., 10.]])"
      ]
     },
     "execution_count": 51,
     "metadata": {},
     "output_type": "execute_result"
    }
   ],
   "source": [
    "x1=np.arange(9.0).reshape((3,3))\n",
    "\n",
    "x2=np.arange(3.0)\n",
    "x1+x2"
   ]
  },
  {
   "cell_type": "code",
   "execution_count": null,
   "id": "164ca0d9-df5d-42d0-a385-ecf1a708f860",
   "metadata": {},
   "outputs": [],
   "source": []
  }
 ],
 "metadata": {
  "kernelspec": {
   "display_name": "Python 3 (ipykernel)",
   "language": "python",
   "name": "python3"
  },
  "language_info": {
   "codemirror_mode": {
    "name": "ipython",
    "version": 3
   },
   "file_extension": ".py",
   "mimetype": "text/x-python",
   "name": "python",
   "nbconvert_exporter": "python",
   "pygments_lexer": "ipython3",
   "version": "3.12.4"
  }
 },
 "nbformat": 4,
 "nbformat_minor": 5
}
