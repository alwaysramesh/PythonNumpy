{
 "cells": [
  {
   "cell_type": "code",
   "execution_count": 1,
   "id": "662f0647-85ad-45f5-9987-b29f531215a0",
   "metadata": {},
   "outputs": [],
   "source": [
    "# reshape = we can change in any dimension"
   ]
  },
  {
   "cell_type": "code",
   "execution_count": 2,
   "id": "8c402d7a-72f9-4345-b466-8269fe4b428b",
   "metadata": {},
   "outputs": [],
   "source": [
    "import numpy as np"
   ]
  },
  {
   "cell_type": "code",
   "execution_count": 3,
   "id": "d3662108-3c32-4a2b-ae79-248b692e93a6",
   "metadata": {},
   "outputs": [],
   "source": [
    "a = np.array([[2,3,4],[3,4,5]])"
   ]
  },
  {
   "cell_type": "code",
   "execution_count": 4,
   "id": "ee7f965e-2e6c-44d1-97c5-065d8759e050",
   "metadata": {},
   "outputs": [
    {
     "name": "stdout",
     "output_type": "stream",
     "text": [
      "[[2 3 4]\n",
      " [3 4 5]]\n",
      "2\n",
      "(2, 3)\n"
     ]
    }
   ],
   "source": [
    "print(a)\n",
    "print(a.ndim)\n",
    "print(a.shape)"
   ]
  },
  {
   "cell_type": "code",
   "execution_count": 5,
   "id": "e6309954-e5ec-4dfe-8c75-0237bd537e2f",
   "metadata": {},
   "outputs": [
    {
     "name": "stdout",
     "output_type": "stream",
     "text": [
      "[[2 3]\n",
      " [4 3]\n",
      " [4 5]]\n",
      "(3, 2)\n"
     ]
    }
   ],
   "source": [
    "b = a.reshape(3,2)\n",
    "print(b)\n",
    "print(b.shape)"
   ]
  },
  {
   "cell_type": "code",
   "execution_count": 6,
   "id": "06304e52-3f9c-4c37-bcd8-504ae9ce6e67",
   "metadata": {},
   "outputs": [
    {
     "name": "stdout",
     "output_type": "stream",
     "text": [
      "[ 0  1  2  3  4  5  6  7  8  9 10 11 12 13 14 15 16 17 18 19 20 21 22 23]\n"
     ]
    }
   ],
   "source": [
    "c = np.arange(0,24)\n",
    "print(c)"
   ]
  },
  {
   "cell_type": "code",
   "execution_count": 8,
   "id": "e0513d27-d3ab-459e-8106-9815c51f97c5",
   "metadata": {},
   "outputs": [
    {
     "name": "stdout",
     "output_type": "stream",
     "text": [
      "[[[ 0  1]\n",
      "  [ 2  3]\n",
      "  [ 4  5]]\n",
      "\n",
      " [[ 6  7]\n",
      "  [ 8  9]\n",
      "  [10 11]]\n",
      "\n",
      " [[12 13]\n",
      "  [14 15]\n",
      "  [16 17]]\n",
      "\n",
      " [[18 19]\n",
      "  [20 21]\n",
      "  [22 23]]]\n"
     ]
    }
   ],
   "source": [
    "print(c.reshape(4,3,2))"
   ]
  },
  {
   "cell_type": "code",
   "execution_count": 9,
   "id": "2df67c4a-b663-4300-8164-7da8ff076786",
   "metadata": {},
   "outputs": [
    {
     "name": "stdout",
     "output_type": "stream",
     "text": [
      "[[[ 4  5]\n",
      "  [ 7 12]\n",
      "  [ 2  8]]\n",
      "\n",
      " [[17 16]\n",
      "  [15 17]\n",
      "  [ 9 12]]\n",
      "\n",
      " [[ 8  1]\n",
      "  [ 2  3]\n",
      "  [ 2  4]]\n",
      "\n",
      " [[15  3]\n",
      "  [ 3 19]\n",
      "  [ 8 14]]]\n"
     ]
    }
   ],
   "source": [
    "c = np.random.randint(1,20,(4,3,2))\n",
    "print(c)"
   ]
  },
  {
   "cell_type": "code",
   "execution_count": 12,
   "id": "d81f9201-297e-496a-ad1d-4e34efe53768",
   "metadata": {},
   "outputs": [
    {
     "name": "stdout",
     "output_type": "stream",
     "text": [
      "4\n"
     ]
    }
   ],
   "source": [
    "d = np.array([1,2,3])\n",
    "print(d.itemsize)"
   ]
  },
  {
   "cell_type": "code",
   "execution_count": 1,
   "id": "6d4d8a63-691d-4409-bd9b-5e78f94a770b",
   "metadata": {},
   "outputs": [],
   "source": [
    "# 8 means har ek element ko store karne ke liye 64 "
   ]
  },
  {
   "cell_type": "code",
   "execution_count": 4,
   "id": "ff9228ad-1efb-4df9-82e5-c06b40e85d3a",
   "metadata": {},
   "outputs": [],
   "source": [
    "import numpy as np\n"
   ]
  },
  {
   "cell_type": "code",
   "execution_count": 5,
   "id": "a09fe287-81b3-44ee-9bcb-4c92363e4bb9",
   "metadata": {},
   "outputs": [
    {
     "name": "stdout",
     "output_type": "stream",
     "text": [
      "4\n",
      "3\n",
      "12\n"
     ]
    }
   ],
   "source": [
    "d = np.array([1,2,3])\n",
    "print(d.itemsize)\n",
    "print(d.size)\n",
    "print(d.nbytes)"
   ]
  },
  {
   "cell_type": "code",
   "execution_count": 6,
   "id": "b2ca84a1-c002-4b6a-91e1-c3d1255a68dd",
   "metadata": {},
   "outputs": [
    {
     "name": "stdout",
     "output_type": "stream",
     "text": [
      "1\n",
      "5\n",
      "5\n"
     ]
    }
   ],
   "source": [
    "x = np.array([1,2,3,4,5],dtype = np.int8)\n",
    "print(x.itemsize)\n",
    "print(x.size)\n",
    "print(x.nbytes)"
   ]
  },
  {
   "cell_type": "code",
   "execution_count": 7,
   "id": "23c2a78b-a5cf-438b-a119-82face84a553",
   "metadata": {},
   "outputs": [
    {
     "name": "stdout",
     "output_type": "stream",
     "text": [
      "4\n",
      "5\n",
      "20\n"
     ]
    }
   ],
   "source": [
    "x = np.array([1,2,3,4,5],dtype = np.float32)\n",
    "print(x.itemsize)\n",
    "print(x.size)\n",
    "print(x.nbytes)"
   ]
  },
  {
   "cell_type": "code",
   "execution_count": null,
   "id": "e2fd7f12-2da9-4974-9ab6-e26ca6b3b883",
   "metadata": {},
   "outputs": [],
   "source": []
  }
 ],
 "metadata": {
  "kernelspec": {
   "display_name": "Python 3 (ipykernel)",
   "language": "python",
   "name": "python3"
  },
  "language_info": {
   "codemirror_mode": {
    "name": "ipython",
    "version": 3
   },
   "file_extension": ".py",
   "mimetype": "text/x-python",
   "name": "python",
   "nbconvert_exporter": "python",
   "pygments_lexer": "ipython3",
   "version": "3.12.4"
  }
 },
 "nbformat": 4,
 "nbformat_minor": 5
}
